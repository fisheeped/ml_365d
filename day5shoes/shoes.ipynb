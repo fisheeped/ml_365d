{
 "cells": [
  {
   "cell_type": "markdown",
   "id": "b025d35d",
   "metadata": {},
   "source": [
    "## 关于Baseline参考文章\n",
    ">- **🍨 Baseline参考[🔗365天深度学习训练营](https://www.heywhale.com/home/activity/detail/62d0e7de05e9c8e1d50a90fa/content/4) 内部限免文章（版权归 *K同学啊* 所有）**\n",
    ">- **🍦 参考文章地址： [🔗运动鞋品牌识别](https://www.heywhale.com/mw/project/62feef0af31025b77757087a)**\n",
    ">- **🍖 参考文章作者：[K同学啊 | 接辅导、程序定制](https://mp.weixin.qq.com/s/k-vYaC8l7uxX51WoypLkTw)**"
   ]
  },
  {
   "cell_type": "markdown",
   "id": "b4520c95",
   "metadata": {},
   "source": [
    "# 👇本周任务挑战\n",
    "**5天学习计划-第5周**\n",
    "> - 选题：👟运动鞋品牌识别\n",
    "> - 难度：新手入门🌟\n",
    "> - 语言：Python3、TensorFlow2\n",
    "> - 时间：8月22-8月26日\n",
    "\n",
    "**🍺要求：**\n",
    "\n",
    "> - 跑通程序\n",
    "> - 理解卷积的运算过程\n",
    "> - 验证集准确率达到82%\n",
    "\n",
    "**支持数据**\n",
    "[运动鞋数据集](https://www.heywhale.com/mw/dataset/62feeea455804632ba14168d/file)"
   ]
  },
  {
   "cell_type": "markdown",
   "id": "f49a7ed1",
   "metadata": {},
   "source": [
    "# 代码流程"
   ]
  },
  {
   "cell_type": "markdown",
   "id": "25fd2ca5",
   "metadata": {},
   "source": [
    "## 设置GPU"
   ]
  },
  {
   "cell_type": "code",
   "execution_count": 2,
   "id": "900a11f3",
   "metadata": {
    "scrolled": true
   },
   "outputs": [
    {
     "data": {
      "text/plain": [
       "[]"
      ]
     },
     "execution_count": 2,
     "metadata": {},
     "output_type": "execute_result"
    }
   ],
   "source": [
    "from PIL import Image\n",
    "import numpy as np\n",
    "\n",
    "from tensorflow import keras\n",
    "from tensorflow.keras import layers,models,Model\n",
    "import os, PIL, pathlib\n",
    "import matplotlib.pyplot as plt\n",
    "import tensorflow as tf\n",
    "from tensorflow.keras.layers import Conv2D, BatchNormalization, Activation, MaxPool2D, Dropout, Flatten, Dense, \\\n",
    "    GlobalAveragePooling2D\n",
    "gpus = tf.config.list_physical_devices(\"GPU\")\n",
    "\n",
    "if gpus:\n",
    "    gpu0 = gpus[0]                                        #如果有多个GPU，仅使用第0个GPU\n",
    "    tf.config.experimental.set_memory_growth(gpu0, True)  #设置GPU显存用量按需使用\n",
    "    tf.config.set_visible_devices([gpu0],\"GPU\")\n",
    "    \n",
    "gpus"
   ]
  },
  {
   "cell_type": "markdown",
   "id": "0ff4af5c",
   "metadata": {},
   "source": [
    "## 从图片属性与卷积核一次运算过程"
   ]
  },
  {
   "cell_type": "markdown",
   "id": "d964eb57",
   "metadata": {},
   "source": [
    "- 从下面的数据结构可以看出，训练集样本较少，只有578张，模型可能会**存在拟合现象，可以适当的数据增强来增大训练数据集的丰富度**。\n"
   ]
  },
  {
   "cell_type": "markdown",
   "id": "2c03ac74",
   "metadata": {},
   "source": [
    " - 图片的大小为240x240,深度为3，意味着输入层的深度也为3，第一层的**卷积核深度为3**,当前层的**卷积核个数**，会决定下一层的深度\n",
    "\n",
    "**注意**\n",
    "> 因为上一层的深度为已知，且等于当前卷积核深度，所以在定义卷积核时，不需要传入卷积核的深度，只需要给出**卷积核的长宽和个数**（bias另说)。\n",
    "![covn_core.drawio.png](https://raw.githubusercontent.com/fisheeped/pcs/hf/covn_core.drawio.png)"
   ]
  },
  {
   "cell_type": "markdown",
   "id": "578ce4b1",
   "metadata": {},
   "source": [
    "- 像素点的大小的色值超过1，可以**规范化数据，降低极值和噪声的方差影响**"
   ]
  },
  {
   "cell_type": "code",
   "execution_count": 3,
   "id": "0f20ca53",
   "metadata": {},
   "outputs": [],
   "source": [
    "data_dir = \"./shoes\"\n",
    "\n",
    "data_dir = pathlib.Path(data_dir)"
   ]
  },
  {
   "cell_type": "code",
   "execution_count": 4,
   "id": "e80afd9a",
   "metadata": {},
   "outputs": [
    {
     "name": "stdout",
     "output_type": "stream",
     "text": [
      "图片总数为： 578\n"
     ]
    }
   ],
   "source": [
    "image_count = len(list(data_dir.glob('*/*/*.jpg')))\n",
    "print(\"图片总数为：\",image_count)"
   ]
  },
  {
   "cell_type": "code",
   "execution_count": 5,
   "id": "e4db566d",
   "metadata": {},
   "outputs": [
    {
     "data": {
      "text/plain": [
       "(240, 240, 3)"
      ]
     },
     "execution_count": 5,
     "metadata": {},
     "output_type": "execute_result"
    }
   ],
   "source": [
    "shoes = list(data_dir.glob('test/*/*.jpg'))\n",
    "img = PIL.Image.open(str(shoes[0]))\n",
    "img_height, img_width, img_deep=np.asarray(img).shape\n",
    "np.asarray(img).shape"
   ]
  },
  {
   "cell_type": "code",
   "execution_count": 6,
   "id": "576fcfd7",
   "metadata": {
    "collapsed": true
   },
   "outputs": [
    {
     "data": {
      "text/plain": [
       "array([[[231, 231, 231],\n",
       "        [231, 231, 231],\n",
       "        [231, 231, 231],\n",
       "        ...,\n",
       "        [231, 231, 231],\n",
       "        [231, 231, 231],\n",
       "        [231, 231, 231]],\n",
       "\n",
       "       [[231, 231, 231],\n",
       "        [231, 231, 231],\n",
       "        [231, 231, 231],\n",
       "        ...,\n",
       "        [231, 231, 231],\n",
       "        [231, 231, 231],\n",
       "        [231, 231, 231]],\n",
       "\n",
       "       [[231, 231, 231],\n",
       "        [231, 231, 231],\n",
       "        [231, 231, 231],\n",
       "        ...,\n",
       "        [231, 231, 231],\n",
       "        [231, 231, 231],\n",
       "        [231, 231, 231]],\n",
       "\n",
       "       ...,\n",
       "\n",
       "       [[231, 231, 231],\n",
       "        [231, 231, 231],\n",
       "        [231, 231, 231],\n",
       "        ...,\n",
       "        [231, 231, 231],\n",
       "        [231, 231, 231],\n",
       "        [231, 231, 231]],\n",
       "\n",
       "       [[231, 231, 231],\n",
       "        [231, 231, 231],\n",
       "        [231, 231, 231],\n",
       "        ...,\n",
       "        [231, 231, 231],\n",
       "        [231, 231, 231],\n",
       "        [231, 231, 231]],\n",
       "\n",
       "       [[231, 231, 231],\n",
       "        [231, 231, 231],\n",
       "        [231, 231, 231],\n",
       "        ...,\n",
       "        [231, 231, 231],\n",
       "        [231, 231, 231],\n",
       "        [231, 231, 231]]], dtype=uint8)"
      ]
     },
     "execution_count": 6,
     "metadata": {},
     "output_type": "execute_result"
    }
   ],
   "source": [
    "np.array(img)"
   ]
  },
  {
   "cell_type": "markdown",
   "id": "88454b6e",
   "metadata": {},
   "source": [
    "## 拆分数据（基于tensorflow底层逻辑的分享)\n",
    "定义batch最好是32的倍数，以为显卡的一个warp的core数是32（参考**cuda并行运算逻辑**），故最小并行数为32。"
   ]
  },
  {
   "cell_type": "markdown",
   "id": "7b6a99fe",
   "metadata": {},
   "source": [
    "### shuffle\n",
    "由于**shuffle是在buffer**中进行的，并且shuffle的高度和seed的大小有关，所以seed值太大，会占用更多的内存。\n",
    "> 因考虑随机性，故seed大小最好不要人工干预。   \n",
    "> 其次shuffle算法本省就属于伪随机，越靠前的数据越容易取出。"
   ]
  },
  {
   "cell_type": "markdown",
   "id": "30b65f4c",
   "metadata": {},
   "source": [
    "### prefetch\n",
    "关于prefetch**数据预取**，tensorflow源码其实是在初始化之后，GPU并行运算时，CPU在异步预取数据，通过pcie总线，提前将数据下一轮数据准备在GPU中。简单理解就是CPU和GPU两个线程同时运行。相似的操作还有**tf.function**装饰器。  \n",
    "> 下面的PPT是为**泰山参加Nvidia**并行运算培训关于prefetch部分的内容。  "
   ]
  },
  {
   "cell_type": "code",
   "execution_count": 13,
   "id": "144ea117",
   "metadata": {},
   "outputs": [
    {
     "data": {
      "text/html": [
       "\n",
       "<div align=\"center\"><iframe src=\"https://view.officeapps.live.com/op/view.aspx?src=https://developer.download.nvidia.com/training/courses/C-AC-01-V1/AC_UM_NVPROF-zh/NVPROF_UM_2-zh.pptx\" frameborder=\"0\" width=\"900\" height=\"550\" allowfullscreen=\"true\" mozallowfullscreen=\"true\" webkitallowfullscreen=\"true\"></iframe></div>\n"
      ],
      "text/plain": [
       "<IPython.core.display.HTML object>"
      ]
     },
     "metadata": {},
     "output_type": "display_data"
    }
   ],
   "source": [
    "%%HTML\n",
    "\n",
    "<div align=\"center\"><iframe src=\"https://view.officeapps.live.com/op/view.aspx?src=https://developer.download.nvidia.com/training/courses/C-AC-01-V1/AC_UM_NVPROF-zh/NVPROF_UM_2-zh.pptx\" frameborder=\"0\" width=\"900\" height=\"550\" allowfullscreen=\"true\" mozallowfullscreen=\"true\" webkitallowfullscreen=\"true\"></iframe></div>"
   ]
  },
  {
   "cell_type": "markdown",
   "id": "13523b5a",
   "metadata": {},
   "source": [
    "### cuda和tensorflow关系\n",
    "无论是tensorflow还是torch,panddle,cafe等等，都是基于cuda的逻辑上建的房子，建议有空可以了解一下。"
   ]
  },
  {
   "cell_type": "code",
   "execution_count": 7,
   "id": "ceba617e",
   "metadata": {},
   "outputs": [],
   "source": [
    "batch_size =32"
   ]
  },
  {
   "cell_type": "code",
   "execution_count": 8,
   "id": "19f4af38",
   "metadata": {
    "scrolled": true
   },
   "outputs": [
    {
     "data": {
      "text/plain": [
       "[PosixPath('shoes/train'), PosixPath('shoes/test')]"
      ]
     },
     "execution_count": 8,
     "metadata": {},
     "output_type": "execute_result"
    }
   ],
   "source": [
    "train_val = list(data_dir.iterdir())\n",
    "train_val"
   ]
  },
  {
   "cell_type": "code",
   "execution_count": 9,
   "id": "b91f51a4",
   "metadata": {},
   "outputs": [
    {
     "name": "stdout",
     "output_type": "stream",
     "text": [
      "Found 502 files belonging to 2 classes.\n"
     ]
    }
   ],
   "source": [
    "train_ds = tf.keras.preprocessing.image_dataset_from_directory(\n",
    "    train_val[0],\n",
    "    seed=31,\n",
    "    image_size=(img_height, img_width),\n",
    "    batch_size=batch_size)"
   ]
  },
  {
   "cell_type": "code",
   "execution_count": 10,
   "id": "c6719ea8",
   "metadata": {},
   "outputs": [
    {
     "name": "stdout",
     "output_type": "stream",
     "text": [
      "Found 76 files belonging to 2 classes.\n"
     ]
    }
   ],
   "source": [
    "train_ds = tf.keras.preprocessing.image_dataset_from_directory(\n",
    "    train_val[1],\n",
    "    seed=31,\n",
    "    image_size=(img_height, img_width),\n",
    "    batch_size=batch_size)\n"
   ]
  },
  {
   "cell_type": "code",
   "execution_count": null,
   "id": "cd4a7a96",
   "metadata": {},
   "outputs": [],
   "source": []
  }
 ],
 "metadata": {
  "kernelspec": {
   "display_name": "Python 3 (ipykernel)",
   "language": "python",
   "name": "python3"
  },
  "language_info": {
   "codemirror_mode": {
    "name": "ipython",
    "version": 3
   },
   "file_extension": ".py",
   "mimetype": "text/x-python",
   "name": "python",
   "nbconvert_exporter": "python",
   "pygments_lexer": "ipython3",
   "version": "3.7.7"
  }
 },
 "nbformat": 4,
 "nbformat_minor": 5
}
