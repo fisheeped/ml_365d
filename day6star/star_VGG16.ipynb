{
 "cells": [
  {
   "cell_type": "code",
   "execution_count": 4,
   "id": "9a402c1f",
   "metadata": {},
   "outputs": [
    {
     "data": {
      "text/html": [
       "<div>\n",
       "<h1 id=\"5天学习计划-第6周\"><strong>5天学习计划-第6周</strong></h1>\n",
       "<p>选题：<strong>好莱坞明星识别</strong><br>难度：夯实基础🌟🌟<br>语言：Python3、TensorFlow2<br>时间：8月29-9月2日</p>\n",
       "<p>🍺 要求：</p>\n",
       "<ol>\n",
       "<li>使用categorical_crossentropy（多分类的对数损失函数）完成本次选题</li>\n",
       "<li>探究不同损失函数的使用场景与代码实现</li>\n",
       "</ol>\n",
       "<p>🍻 拔高（可选）：</p>\n",
       "<ol>\n",
       "<li>自己搭建VGG-16网络框架</li>\n",
       "<li>调用官方的VGG-16网络框架</li>\n",
       "<li>使用VGG-16算法训练该模型</li>\n",
       "</ol>\n",
       "<p>参考文章：<a target=\"_blank\" href=\"https://www.heywhale.com/mw/project/6306da1a79946a4716f24896\">https://www.heywhale.com/mw/project/6306da1a79946a4716f24896</a></p>\n",
       "<p><img src=\"https://cdn.kesci.com/upload/image/rh5s8rqvoy.png\" alt=\"Image Name\"></p>\n",
       "<h2 id=\"支持数据-3\"><strong>支持数据</strong></h2>\n",
       "<p><a target=\"_blank\" href=\"https://www.heywhale.com/mw/dataset/63072841b7dcdc54975ad5d0/file\">好莱坞明星数据集</a></p>\n",
       "</div>\n"
      ],
      "text/plain": [
       "<IPython.core.display.HTML object>"
      ]
     },
     "metadata": {},
     "output_type": "display_data"
    }
   ],
   "source": [
    "%%HTML\n",
    "<div>\n",
    "<h1 id=\"5天学习计划-第6周\"><strong>5天学习计划-第6周</strong></h1>\n",
    "<p>选题：<strong>好莱坞明星识别</strong><br>难度：夯实基础🌟🌟<br>语言：Python3、TensorFlow2<br>时间：8月29-9月2日</p>\n",
    "<p>🍺 要求：</p>\n",
    "<ol>\n",
    "<li>使用categorical_crossentropy（多分类的对数损失函数）完成本次选题</li>\n",
    "<li>探究不同损失函数的使用场景与代码实现</li>\n",
    "</ol>\n",
    "<p>🍻 拔高（可选）：</p>\n",
    "<ol>\n",
    "<li>自己搭建VGG-16网络框架</li>\n",
    "<li>调用官方的VGG-16网络框架</li>\n",
    "<li>使用VGG-16算法训练该模型</li>\n",
    "</ol>\n",
    "<p>参考文章：<a target=\"_blank\" href=\"https://www.heywhale.com/mw/project/6306da1a79946a4716f24896\">https://www.heywhale.com/mw/project/6306da1a79946a4716f24896</a></p>\n",
    "<p><img src=\"https://cdn.kesci.com/upload/image/rh5s8rqvoy.png\" alt=\"Image Name\"></p>\n",
    "<h2 id=\"支持数据-3\"><strong>支持数据</strong></h2>\n",
    "<p><a target=\"_blank\" href=\"https://www.heywhale.com/mw/dataset/63072841b7dcdc54975ad5d0/file\">好莱坞明星数据集</a></p>\n",
    "\n",
    "\n",
    "\n",
    "</div>"
   ]
  },
  {
   "cell_type": "code",
   "execution_count": 1,
   "id": "2b024b6e",
   "metadata": {},
   "outputs": [
    {
     "data": {
      "text/plain": [
       "'2.8.0'"
      ]
     },
     "execution_count": 1,
     "metadata": {},
     "output_type": "execute_result"
    }
   ],
   "source": [
    "import tensorflow as tf\n",
    "tf.__version__"
   ]
  },
  {
   "cell_type": "markdown",
   "id": "a73c36ee",
   "metadata": {},
   "source": [
    "# VGG16\n",
    "**一句话概括VGG16**   \n",
    "**VGG(Visual Geometry Group)**团队构建的16层的卷积神经模型。"
   ]
  },
  {
   "cell_type": "code",
   "execution_count": null,
   "id": "53b7f851",
   "metadata": {},
   "outputs": [],
   "source": [
    "class ConvBNRelu(Model):\n",
    "    def __init__(self, ch, kernelsz=3, strides=1, padding='same'):\n",
    "        super(ConvBNRelu, self).__init__()\n",
    "        self.model = tf.keras.models.Sequential([\n",
    "            Conv2D(ch, kernelsz, strides=strides, padding=padding),\n",
    "            BatchNormalization(),\n",
    "            Activation('relu')\n",
    "        ])\n",
    "\n",
    "    def call(self, x):\n",
    "        x = self.model(x, training=False) #在training=False时，BN通过整个训练集计算均值、方差去做批归一化，training=True时，通过当前batch的均值、方差去做批归一化。推理时 training=False效果好\n",
    "        return x\n"
   ]
  }
 ],
 "metadata": {
  "kernelspec": {
   "display_name": "Python 3 (ipykernel)",
   "language": "python",
   "name": "python3"
  },
  "language_info": {
   "codemirror_mode": {
    "name": "ipython",
    "version": 3
   },
   "file_extension": ".py",
   "mimetype": "text/x-python",
   "name": "python",
   "nbconvert_exporter": "python",
   "pygments_lexer": "ipython3",
   "version": "3.7.7"
  }
 },
 "nbformat": 4,
 "nbformat_minor": 5
}
