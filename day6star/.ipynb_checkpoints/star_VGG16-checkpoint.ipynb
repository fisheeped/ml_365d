{
 "cells": [
  {
   "cell_type": "code",
   "execution_count": 4,
   "id": "9a402c1f",
   "metadata": {},
   "outputs": [
    {
     "data": {
      "text/html": [
       "<div>\n",
       "<h1 id=\"5天学习计划-第6周\"><strong>5天学习计划-第6周</strong></h1>\n",
       "<p>选题：<strong>好莱坞明星识别</strong><br>难度：夯实基础🌟🌟<br>语言：Python3、TensorFlow2<br>时间：8月29-9月2日</p>\n",
       "<p>🍺 要求：</p>\n",
       "<ol>\n",
       "<li>使用categorical_crossentropy（多分类的对数损失函数）完成本次选题</li>\n",
       "<li>探究不同损失函数的使用场景与代码实现</li>\n",
       "</ol>\n",
       "<p>🍻 拔高（可选）：</p>\n",
       "<ol>\n",
       "<li>自己搭建VGG-16网络框架</li>\n",
       "<li>调用官方的VGG-16网络框架</li>\n",
       "<li>使用VGG-16算法训练该模型</li>\n",
       "</ol>\n",
       "<p>参考文章：<a target=\"_blank\" href=\"https://www.heywhale.com/mw/project/6306da1a79946a4716f24896\">https://www.heywhale.com/mw/project/6306da1a79946a4716f24896</a></p>\n",
       "<p><img src=\"https://cdn.kesci.com/upload/image/rh5s8rqvoy.png\" alt=\"Image Name\"></p>\n",
       "<h2 id=\"支持数据-3\"><strong>支持数据</strong></h2>\n",
       "<p><a target=\"_blank\" href=\"https://www.heywhale.com/mw/dataset/63072841b7dcdc54975ad5d0/file\">好莱坞明星数据集</a></p>\n",
       "</div>\n"
      ],
      "text/plain": [
       "<IPython.core.display.HTML object>"
      ]
     },
     "metadata": {},
     "output_type": "display_data"
    }
   ],
   "source": [
    "%%HTML\n",
    "<div>\n",
    "<h1 id=\"5天学习计划-第6周\"><strong>5天学习计划-第6周</strong></h1>\n",
    "<p>选题：<strong>好莱坞明星识别</strong><br>难度：夯实基础🌟🌟<br>语言：Python3、TensorFlow2<br>时间：8月29-9月2日</p>\n",
    "<p>🍺 要求：</p>\n",
    "<ol>\n",
    "<li>使用categorical_crossentropy（多分类的对数损失函数）完成本次选题</li>\n",
    "<li>探究不同损失函数的使用场景与代码实现</li>\n",
    "</ol>\n",
    "<p>🍻 拔高（可选）：</p>\n",
    "<ol>\n",
    "<li>自己搭建VGG-16网络框架</li>\n",
    "<li>调用官方的VGG-16网络框架</li>\n",
    "<li>使用VGG-16算法训练该模型</li>\n",
    "</ol>\n",
    "<p>参考文章：<a target=\"_blank\" href=\"https://www.heywhale.com/mw/project/6306da1a79946a4716f24896\">https://www.heywhale.com/mw/project/6306da1a79946a4716f24896</a></p>\n",
    "<p><img src=\"https://cdn.kesci.com/upload/image/rh5s8rqvoy.png\" alt=\"Image Name\"></p>\n",
    "<h2 id=\"支持数据-3\"><strong>支持数据</strong></h2>\n",
    "<p><a target=\"_blank\" href=\"https://www.heywhale.com/mw/dataset/63072841b7dcdc54975ad5d0/file\">好莱坞明星数据集</a></p>\n",
    "\n",
    "\n",
    "\n",
    "</div>"
   ]
  },
  {
   "cell_type": "code",
   "execution_count": 7,
   "id": "2b024b6e",
   "metadata": {},
   "outputs": [
    {
     "data": {
      "text/plain": [
       "'2.8.0'"
      ]
     },
     "execution_count": 7,
     "metadata": {},
     "output_type": "execute_result"
    }
   ],
   "source": [
    "import tensorflow as tf\n",
    "tf.__version__"
   ]
  },
  {
   "cell_type": "markdown",
   "id": "b9867818",
   "metadata": {},
   "source": [
    "## TFRecord\n",
    "> - **HDFS**单块标准为64MB,如果要大于64x1.1,则会被分块.(为后期分布式做优化）\n",
    "> - **TFRecord**官方建议是100mb-200mb,这里建议存为128mb或者192mb,取决于内存大小."
   ]
  },
  {
   "cell_type": "code",
   "execution_count": 5,
   "id": "6661e89a",
   "metadata": {},
   "outputs": [],
   "source": [
    "data_path = \"/root/src/mooc/365data/star/48-data\""
   ]
  },
  {
   "cell_type": "markdown",
   "id": "a73c36ee",
   "metadata": {},
   "source": [
    "# VGG16\n",
    "**一句话概括VGG16**   \n",
    "**VGG(Visual Geometry Group)**团队构建的16层的卷积神经模型。"
   ]
  },
  {
   "cell_type": "code",
   "execution_count": null,
   "id": "53b7f851",
   "metadata": {},
   "outputs": [],
   "source": [
    "class ConvBNRelu(Model):\n",
    "    def __init__(self, ch, kernelsz=3, strides=1, padding='same'):\n",
    "        super(ConvBNRelu, self).__init__()\n",
    "        self.model = tf.keras.models.Sequential([\n",
    "            Conv2D(ch, kernelsz, strides=strides, padding=padding),\n",
    "            BatchNormalization(),\n",
    "            Activation('relu')\n",
    "        ])\n",
    "\n",
    "    def call(self, x):\n",
    "        x = self.model(x, training=False) #在training=False时，BN通过整个训练集计算均值、方差去做批归一化，training=True时，通过当前batch的均值、方差去做批归一化。推理时 training=False效果好\n",
    "        return x\n"
   ]
  },
  {
   "cell_type": "code",
   "execution_count": 9,
   "id": "5c493d45",
   "metadata": {},
   "outputs": [
    {
     "name": "stdout",
     "output_type": "stream",
     "text": [
      "tf.Tensor(1, shape=(), dtype=int32)\n",
      "tf.Tensor(2, shape=(), dtype=int32)\n",
      "tf.Tensor(3, shape=(), dtype=int32)\n"
     ]
    }
   ],
   "source": [
    "dataset = tf.data.Dataset.from_tensor_slices([1, 2, 3])\n",
    "for element in dataset:\n",
    "  print(element)\n"
   ]
  },
  {
   "cell_type": "code",
   "execution_count": 12,
   "id": "f8e5c2a8",
   "metadata": {},
   "outputs": [],
   "source": [
    "dataset = tf.data.TextLineDataset([\"1.txt\", \"2.txt\"])"
   ]
  },
  {
   "cell_type": "code",
   "execution_count": 13,
   "id": "b3747a8c",
   "metadata": {},
   "outputs": [
    {
     "data": {
      "text/plain": [
       "<TextLineDatasetV2 element_spec=TensorSpec(shape=(), dtype=tf.string, name=None)>"
      ]
     },
     "execution_count": 13,
     "metadata": {},
     "output_type": "execute_result"
    }
   ],
   "source": [
    "for i in dataset "
   ]
  },
  {
   "cell_type": "code",
   "execution_count": 15,
   "id": "695b47f8",
   "metadata": {},
   "outputs": [],
   "source": [
    "import tensorflow as tf\n",
    "import numpy as np\n",
    "\n",
    "image = np.random.rand(28, 28, 3)  # 一张图片的数据\n",
    "label = 5  # 假设其 label 为 5\n",
    "\n",
    "example = tf.train.Example(features=tf.train.Features(feature={\n",
    "    # image 数据\n",
    "    \"image\": tf.train.Feature(bytes_list=tf.train.BytesList(value=[image.tobytes()])),\n",
    "    \n",
    "    # 长、宽、通道数\n",
    "    \"height\": tf.train.Feature(int64_list=tf.train.Int64List(value=[28])),\n",
    "    \"width\": tf.train.Feature(int64_list=tf.train.Int64List(value=[28])),\n",
    "    \"channels\": tf.train.Feature(int64_list=tf.train.Int64List(value=[3])),\n",
    "    \n",
    "    # label\n",
    "    \"label\": tf.train.Feature(int64_list=tf.train.Int64List(value=[label])),\n",
    "}))"
   ]
  },
  {
   "cell_type": "code",
   "execution_count": 17,
   "id": "347a7267",
   "metadata": {},
   "outputs": [],
   "source": [
    "with tf.io.TFRecordWriter(\"./1.tfrecords\") as f:\n",
    "    f.write(example.SerializeToString())"
   ]
  },
  {
   "cell_type": "code",
   "execution_count": 24,
   "id": "f2179c9f",
   "metadata": {},
   "outputs": [],
   "source": [
    "def map_func(example):\n",
    "    # feature 的属性解析表\n",
    "    feature_map = {'image': tf.io.FixedLenFeature((), tf.string),\n",
    "                   'height': tf.io.FixedLenFeature((), tf.int64),\n",
    "                   'width': tf.io.FixedLenFeature((), tf.int64),\n",
    "                   'channels': tf.io.FixedLenFeature((), tf.int64),\n",
    "                   'label': tf.io.FixedLenFeature((), tf.int64)\n",
    "                   }\n",
    "    parsed_example = tf.io.parse_single_example(example, features=feature_map)\n",
    "\n",
    "    # parsed_example[\"image\"] 是 bytes 二进制数据，需要转化为 Tensor, 并告知转化后的 dtype\n",
    "    # 我这里 np.random.rand 生成数据默认是 float64， 所以才这样写\n",
    "    # 如果我们读取的图片数据是 0-255,则应该设置 out_type=tf.uint8\n",
    "    image = tf.io.decode_raw(parsed_example[\"image\"], out_type=tf.float64)\n",
    "    height = parsed_example[\"height\"]\n",
    "    width = parsed_example[\"width\"]\n",
    "    channels = parsed_example[\"channels\"]\n",
    "\n",
    "    # 我们将数据转化为 bytes, 再转化为张量, 会转化为一个 1维数据\n",
    "    # 这里提前保存 shape 信息，转化回来\n",
    "    image = tf.reshape(image, [height, width, channels])\n",
    "    label = parsed_example[\"label\"]\n",
    "    return image, label"
   ]
  },
  {
   "cell_type": "code",
   "execution_count": 25,
   "id": "fd263249",
   "metadata": {},
   "outputs": [],
   "source": [
    "dataset = tf.data.TFRecordDataset([\"./1.tfrecords\"])"
   ]
  },
  {
   "cell_type": "code",
   "execution_count": 26,
   "id": "e7e020cd",
   "metadata": {},
   "outputs": [],
   "source": [
    "dataset = dataset.map(map_func=map_func)"
   ]
  },
  {
   "cell_type": "code",
   "execution_count": 30,
   "id": "de0ea9b3",
   "metadata": {},
   "outputs": [],
   "source": [
    "iterator = iter(dataset).next()"
   ]
  },
  {
   "cell_type": "code",
   "execution_count": 31,
   "id": "172778f9",
   "metadata": {},
   "outputs": [
    {
     "data": {
      "text/plain": [
       "(<tf.Tensor: shape=(28, 28, 3), dtype=float64, numpy=\n",
       " array([[[0.01578101, 0.14111893, 0.09798259],\n",
       "         [0.52016834, 0.86691399, 0.93896794],\n",
       "         [0.73658048, 0.50462992, 0.72605521],\n",
       "         ...,\n",
       "         [0.73243633, 0.35001585, 0.13677089],\n",
       "         [0.39685401, 0.50333596, 0.32483344],\n",
       "         [0.21245795, 0.11349988, 0.7863852 ]],\n",
       " \n",
       "        [[0.55600441, 0.22886614, 0.53126274],\n",
       "         [0.96990155, 0.62389025, 0.19991873],\n",
       "         [0.11611086, 0.98813112, 0.23262322],\n",
       "         ...,\n",
       "         [0.38316933, 0.34395524, 0.28818057],\n",
       "         [0.01931731, 0.61110854, 0.40545598],\n",
       "         [0.45612546, 0.04703484, 0.26684997]],\n",
       " \n",
       "        [[0.8323555 , 0.41558551, 0.72045886],\n",
       "         [0.48909087, 0.87690145, 0.66117589],\n",
       "         [0.24592915, 0.68617509, 0.87539927],\n",
       "         ...,\n",
       "         [0.3851376 , 0.6285504 , 0.26700937],\n",
       "         [0.13843931, 0.13151322, 0.36200444],\n",
       "         [0.81706687, 0.40765513, 0.43464995]],\n",
       " \n",
       "        ...,\n",
       " \n",
       "        [[0.00174676, 0.45554259, 0.84989686],\n",
       "         [0.67794133, 0.56263772, 0.63937868],\n",
       "         [0.49788818, 0.15806776, 0.29201174],\n",
       "         ...,\n",
       "         [0.65330344, 0.63116285, 0.74802078],\n",
       "         [0.89771697, 0.76547044, 0.3626574 ],\n",
       "         [0.71863118, 0.60648557, 0.94630057]],\n",
       " \n",
       "        [[0.75482409, 0.72845464, 0.52053346],\n",
       "         [0.37333388, 0.42211904, 0.88302414],\n",
       "         [0.1912524 , 0.52842835, 0.95098807],\n",
       "         ...,\n",
       "         [0.93807479, 0.95660577, 0.28040894],\n",
       "         [0.3194428 , 0.81394598, 0.78230099],\n",
       "         [0.75887254, 0.8492765 , 0.97480821]],\n",
       " \n",
       "        [[0.47934852, 0.52297043, 0.83667008],\n",
       "         [0.03514082, 0.03212194, 0.38306902],\n",
       "         [0.33009001, 0.94421179, 0.4973688 ],\n",
       "         ...,\n",
       "         [0.39749855, 0.58472454, 0.11457158],\n",
       "         [0.82310503, 0.51959244, 0.52054192],\n",
       "         [0.5859924 , 0.62295456, 0.48185799]]])>,\n",
       " <tf.Tensor: shape=(), dtype=int64, numpy=5>)"
      ]
     },
     "execution_count": 31,
     "metadata": {},
     "output_type": "execute_result"
    }
   ],
   "source": [
    "iterator"
   ]
  },
  {
   "cell_type": "code",
   "execution_count": null,
   "id": "ced850dc",
   "metadata": {},
   "outputs": [],
   "source": []
  }
 ],
 "metadata": {
  "kernelspec": {
   "display_name": "Python 3 (ipykernel)",
   "language": "python",
   "name": "python3"
  },
  "language_info": {
   "codemirror_mode": {
    "name": "ipython",
    "version": 3
   },
   "file_extension": ".py",
   "mimetype": "text/x-python",
   "name": "python",
   "nbconvert_exporter": "python",
   "pygments_lexer": "ipython3",
   "version": "3.7.7"
  }
 },
 "nbformat": 4,
 "nbformat_minor": 5
}
